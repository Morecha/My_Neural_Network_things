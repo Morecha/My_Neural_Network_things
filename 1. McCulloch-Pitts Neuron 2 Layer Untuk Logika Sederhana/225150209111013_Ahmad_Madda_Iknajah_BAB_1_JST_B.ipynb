{
  "cells": [
    {
      "cell_type": "markdown",
      "metadata": {
        "id": "Ajq3vhLich78"
      },
      "source": [
        "Pada soal bab 1 ini, praktikan diharap bisa menerapkan McCulloch-Pitts Neuron 2 layer untuk menyelesaikan persoalan logika sederhana."
      ]
    },
    {
      "cell_type": "markdown",
      "metadata": {
        "id": "O699a8SBMGFQ"
      },
      "source": [
        "# Modul"
      ]
    },
    {
      "cell_type": "code",
      "execution_count": 1,
      "metadata": {
        "id": "bIJkBSh2Wagw"
      },
      "outputs": [],
      "source": [
        "def binstep(x, th=0):\n",
        "  return 1 if x >= th else 0"
      ]
    },
    {
      "cell_type": "code",
      "execution_count": 2,
      "metadata": {
        "id": "1ib6LYBRbRDF"
      },
      "outputs": [],
      "source": [
        "import numpy as np\n",
        "\n",
        "def MCP(x, w, th):\n",
        "  y_in = np.dot(x, w)\n",
        "  y_out = binstep(y_in, th)\n",
        "  return y_out"
      ]
    },
    {
      "cell_type": "code",
      "execution_count": 3,
      "metadata": {
        "id": "ZXiZ_tEhfQQb"
      },
      "outputs": [],
      "source": [
        "def calc_accuracy(a, b):\n",
        "  s = [1 if a[i] == b[i] else 0 for i in range(len(a))]\n",
        "  return sum(s) / len(a)"
      ]
    },
    {
      "cell_type": "code",
      "execution_count": 4,
      "metadata": {
        "id": "NiNa336XfzuU"
      },
      "outputs": [],
      "source": [
        "def AND(X):\n",
        "  w = 1, 1\n",
        "  th = 2\n",
        "  y = [MCP(i, w, th) for i in X]\n",
        "  return y"
      ]
    },
    {
      "cell_type": "code",
      "execution_count": 5,
      "metadata": {
        "colab": {
          "base_uri": "https://localhost:8080/"
        },
        "id": "2racFwUKhGhw",
        "outputId": "77c63f3f-a428-4bd4-9c28-58ffbbf6e1bb"
      },
      "outputs": [
        {
          "name": "stdout",
          "output_type": "stream",
          "text": [
            "Output: [0, 0, 0, 1]\n",
            "True: (0, 0, 0, 1)\n",
            "Accuracy: 1.0\n"
          ]
        }
      ],
      "source": [
        "data = (0, 0), (0, 1), (1, 0), (1, 1)\n",
        "output = AND(data)\n",
        "true = 0, 0, 0, 1\n",
        "accuracy = calc_accuracy(output, true)\n",
        "\n",
        "print('Output:', output)\n",
        "print('True:', true)\n",
        "print('Accuracy:', accuracy)"
      ]
    },
    {
      "cell_type": "code",
      "execution_count": 6,
      "metadata": {
        "id": "VQ051x3e8Fni"
      },
      "outputs": [],
      "source": [
        "def OR(X):\n",
        "  w = 2, 2\n",
        "  th = 2\n",
        "  y = [MCP(i, w, th) for i in X]\n",
        "  return y"
      ]
    },
    {
      "cell_type": "code",
      "execution_count": 7,
      "metadata": {
        "colab": {
          "base_uri": "https://localhost:8080/"
        },
        "id": "Cjq7S2ax8IHu",
        "outputId": "2cc1f2e9-ca90-4749-daea-88f6b63f39b3"
      },
      "outputs": [
        {
          "name": "stdout",
          "output_type": "stream",
          "text": [
            "Output: [0, 1, 1, 1]\n",
            "True: (0, 1, 1, 1)\n",
            "Accuracy: 1.0\n"
          ]
        }
      ],
      "source": [
        "data = (0, 0), (0, 1), (1, 0), (1, 1)\n",
        "output = OR(data)\n",
        "true = 0, 1, 1, 1\n",
        "accuracy = calc_accuracy(output, true)\n",
        "\n",
        "print('Output:', output)\n",
        "print('True:', true)\n",
        "print('Accuracy:', accuracy)"
      ]
    },
    {
      "cell_type": "code",
      "execution_count": 8,
      "metadata": {
        "id": "EO-ZbanW8P6J"
      },
      "outputs": [],
      "source": [
        "def ANDNOT(X):\n",
        "  w = 2, -1\n",
        "  th = 2\n",
        "  y = [MCP(i, w, th) for i in X]\n",
        "  return y"
      ]
    },
    {
      "cell_type": "code",
      "execution_count": 9,
      "metadata": {
        "colab": {
          "base_uri": "https://localhost:8080/"
        },
        "id": "8Ccg-2UU8Ugk",
        "outputId": "2affd861-e8ce-4edf-8d8d-007716af26fd"
      },
      "outputs": [
        {
          "name": "stdout",
          "output_type": "stream",
          "text": [
            "Output: [0, 0, 1, 0]\n",
            "True: (0, 0, 1, 0)\n",
            "Accuracy: 1.0\n"
          ]
        }
      ],
      "source": [
        "data = (0, 0), (0, 1), (1, 0), (1, 1)\n",
        "output = ANDNOT(data)\n",
        "true = 0, 0, 1, 0\n",
        "accuracy = calc_accuracy(output, true)\n",
        "\n",
        "print('Output:', output)\n",
        "print('True:', true)\n",
        "print('Accuracy:', accuracy)"
      ]
    },
    {
      "cell_type": "code",
      "execution_count": 10,
      "metadata": {
        "id": "AN2gQc1A-FPf"
      },
      "outputs": [],
      "source": [
        "def XOR(X):\n",
        "  X_flip = [(i[1], i[0]) for i in X]\n",
        "  y1 = ANDNOT(X)\n",
        "  y2 = ANDNOT(X_flip)\n",
        "  y = zip(y1, y2)\n",
        "  z = OR(y)\n",
        "  return z"
      ]
    },
    {
      "cell_type": "code",
      "execution_count": 11,
      "metadata": {
        "colab": {
          "base_uri": "https://localhost:8080/"
        },
        "id": "DLbzE9yl-JFR",
        "outputId": "70bbffbc-00ba-41cf-d662-dc2b15491737"
      },
      "outputs": [
        {
          "name": "stdout",
          "output_type": "stream",
          "text": [
            "Output: [0, 1, 1, 0]\n",
            "True: (0, 1, 1, 0)\n",
            "Accuracy: 1.0\n"
          ]
        }
      ],
      "source": [
        "data = (0, 0), (0, 1), (1, 0), (1, 1)\n",
        "output = XOR(data)\n",
        "true = 0, 1, 1, 0\n",
        "accuracy = calc_accuracy(output, true)\n",
        "\n",
        "print('Output:', output)\n",
        "print('True:', true)\n",
        "print('Accuracy:', accuracy)"
      ]
    },
    {
      "cell_type": "markdown",
      "metadata": {
        "id": "UTuApOo_MCPM"
      },
      "source": [
        "#Soal"
      ]
    },
    {
      "cell_type": "markdown",
      "metadata": {
        "id": "-LDdWhxpBu6A"
      },
      "source": [
        "Logika yang sudah ada di modul:\n",
        "-  and\n",
        "-  or\n",
        "-  andnot\n",
        "-  xor"
      ]
    },
    {
      "cell_type": "markdown",
      "metadata": {
        "id": "JNBTiPumLNPp"
      },
      "source": [
        "Kode di bawah ini merupakan pengembangan dari JST McCulloch-Pitts Neuron. Disini teman-teman akan menyelesaikan masalah logika yang merupakan kombinasi dari dari logika-logika yang telah dibuat fungsi sebelumnya. Selesaikan dengan memanggil fungsi-fungsi tersebut."
      ]
    },
    {
      "cell_type": "code",
      "execution_count": 12,
      "metadata": {
        "colab": {
          "base_uri": "https://localhost:8080/"
        },
        "id": "Ux40Ut1-aPWc",
        "outputId": "d34fa211-df12-47d8-aeb9-64c698812054"
      },
      "outputs": [
        {
          "name": "stdout",
          "output_type": "stream",
          "text": [
            "1.0\n"
          ]
        }
      ],
      "source": [
        "# template soal\n",
        "def logic(X):\n",
        "  f0 = [x[0] for x in X]\n",
        "  f1 = [x[1] for x in X]\n",
        "  f2 = [x[2] for x in X]\n",
        "  op1 = AND(zip(f0,f1))\n",
        "  op2 = ANDNOT(zip(op1,f2))\n",
        "  return op2\n",
        "\n",
        "data = (0,0,0), (0,1,0), (0,0,1), (0,1,1), (1,1,1), (1,0,1), (1,0,0), (1,1,0)\n",
        "true = (0, 0, 0, 0, 0, 0, 0, 1)\n",
        "output = logic(data)\n",
        "accuracy = calc_accuracy(output, true)\n",
        "\n",
        "print(accuracy)"
      ]
    },
    {
      "cell_type": "markdown",
      "metadata": {
        "id": "g6TpIxh96LKt"
      },
      "source": [
        "Bagaimana bentuk masalah logika tersebut? (gunakan variabel f0,f1,f2 untuk menjelaskannya)"
      ]
    },
    {
      "cell_type": "markdown",
      "metadata": {
        "id": "WPvnWbrw6LyE"
      },
      "source": [
        "kita menggunakan logika AND dan ANDNOT pada masalah ini. dapat kita lihat untuk keluaran yang diinginkan terdapat 8 buah output. untuk yang pertama f0 mewakilkan variable pertama dari array X dari 1 hingga ke 8. sedangkan f1 mewakilkan variable ke-2 dan f2 mewakilkan variable ke-3.\n",
        "\n",
        "setelah itu kita menggunakan logika AND untuk f1 dan f2 sehingga menghasilkan output [0,0,0,0,1,0,0,1]. setelah itu kita menggunakan hasil dari penggabungan f1 dan f2 terhadap f3 menggunakan ANDNOT sehingga menghasilkan output yang diinginkan [0, 0, 0, 0, 0, 0, 0, 1] dengan akurasinya mencapai 1.0"
      ]
    }
  ],
  "metadata": {
    "colab": {
      "provenance": []
    },
    "kernelspec": {
      "display_name": "Python 3",
      "name": "python3"
    },
    "language_info": {
      "codemirror_mode": {
        "name": "ipython",
        "version": 3
      },
      "file_extension": ".py",
      "mimetype": "text/x-python",
      "name": "python",
      "nbconvert_exporter": "python",
      "pygments_lexer": "ipython3",
      "version": "3.9.1"
    }
  },
  "nbformat": 4,
  "nbformat_minor": 0
}

{
 "cells": [
  {
   "cell_type": "code",
   "execution_count": 27,
   "metadata": {},
   "outputs": [],
   "source": [
    "import numpy as np\n",
    "import pandas as pd"
   ]
  },
  {
   "cell_type": "code",
   "execution_count": 40,
   "metadata": {},
   "outputs": [],
   "source": [
    "def binstep(x, th=0):\n",
    "    return 1 if x>=th else 0"
   ]
  },
  {
   "cell_type": "code",
   "execution_count": 42,
   "metadata": {},
   "outputs": [],
   "source": [
    "def MCP(x, w, th):\n",
    "    y_in = np.dot(x, w)\n",
    "    y_out = binstep(y_in, th)\n",
    "    return y_out"
   ]
  },
  {
   "cell_type": "code",
   "execution_count": 43,
   "metadata": {},
   "outputs": [],
   "source": [
    "def calc_accuracy(a, b):\n",
    "    # s = [1 if a[i] == b[i] else 0 for i in range(len(a))] \n",
    "    s = []\n",
    "    for i in range(len(a)):\n",
    "        if a[i]==b[i]:\n",
    "            s.append(1)\n",
    "        else:\n",
    "            s.append(0)\n",
    "    return sum(s) / len(a)"
   ]
  },
  {
   "cell_type": "code",
   "execution_count": 64,
   "metadata": {},
   "outputs": [],
   "source": [
    "def McCulloth(X,W): \n",
    "    th = 2\n",
    "    y = [MCP(i,W,th) for i in X]\n",
    "    return y\n",
    "\n",
    "def AND(X):\n",
    "    w = 1, 1\n",
    "    return McCulloth(X,w)\n",
    "\n",
    "def OR(X):\n",
    "    w = 2, 2\n",
    "    return McCulloth(X,w)\n",
    "    \n",
    "def ANDNOT(X):\n",
    "    w = 2, -1\n",
    "    return McCulloth(X,w)\n",
    "\n",
    "def XOR(X):\n",
    "    X_flip = [(i[1], i[0]) for i in X]\n",
    "    y1 = ANDNOT(X)\n",
    "    y2 = ANDNOT(X_flip)\n",
    "    y = zip(y1, y2)\n",
    "    return OR(y)"
   ]
  },
  {
   "cell_type": "code",
   "execution_count": 61,
   "metadata": {},
   "outputs": [
    {
     "name": "stdout",
     "output_type": "stream",
     "text": [
      "Output: [0, 0, 0, 1]\n",
      "True: (0, 0, 0, 1)\n",
      "Accuracy: 1.0\n"
     ]
    }
   ],
   "source": [
    "data = (0, 0), (0, 1), (1, 0), (1, 1)\n",
    "output = AND(data)\n",
    "true = 0, 0, 0, 1\n",
    "accuracy = calc_accuracy(output, true)\n",
    "\n",
    "print('Output:', output)\n",
    "print('True:', true)\n",
    "print('Accuracy:', accuracy)"
   ]
  },
  {
   "cell_type": "code",
   "execution_count": 62,
   "metadata": {},
   "outputs": [
    {
     "name": "stdout",
     "output_type": "stream",
     "text": [
      "Output: [0, 1, 1, 1]\n",
      "True: (0, 1, 1, 1)\n",
      "Accuracy: 1.0\n"
     ]
    }
   ],
   "source": [
    "data = (0, 0), (0, 1), (1, 0), (1, 1)\n",
    "output = OR(data)\n",
    "true = 0, 1, 1, 1\n",
    "accuracy = calc_accuracy(output, true)\n",
    "\n",
    "print('Output:', output)\n",
    "print('True:', true)\n",
    "print('Accuracy:', accuracy)"
   ]
  },
  {
   "cell_type": "code",
   "execution_count": 63,
   "metadata": {},
   "outputs": [
    {
     "name": "stdout",
     "output_type": "stream",
     "text": [
      "Output: [0, 0, 1, 0]\n",
      "True: (0, 0, 1, 0)\n",
      "Accuracy: 1.0\n"
     ]
    }
   ],
   "source": [
    "data = (0, 0), (0, 1), (1, 0), (1, 1)\n",
    "output = ANDNOT(data)\n",
    "true = 0, 0, 1, 0\n",
    "accuracy = calc_accuracy(output, true)\n",
    "print('Output:', output)\n",
    "print('True:', true)\n",
    "print('Accuracy:', accuracy)"
   ]
  },
  {
   "cell_type": "code",
   "execution_count": 65,
   "metadata": {},
   "outputs": [
    {
     "name": "stdout",
     "output_type": "stream",
     "text": [
      "Output: [0, 1, 1, 0]\n",
      "True: (0, 1, 1, 0)\n",
      "Accuracy: 1.0\n"
     ]
    }
   ],
   "source": [
    "data = (0, 0), (0, 1), (1, 0), (1, 1)\n",
    "output = XOR(data)\n",
    "true = 0, 1, 1, 0\n",
    "accuracy = calc_accuracy(output, true)\n",
    "print('Output:', output)\n",
    "print('True:', true)\n",
    "print('Accuracy:', accuracy)"
   ]
  }
 ],
 "metadata": {
  "kernelspec": {
   "display_name": "Python 3",
   "language": "python",
   "name": "python3"
  },
  "language_info": {
   "codemirror_mode": {
    "name": "ipython",
    "version": 3
   },
   "file_extension": ".py",
   "mimetype": "text/x-python",
   "name": "python",
   "nbconvert_exporter": "python",
   "pygments_lexer": "ipython3",
   "version": "3.9.1"
  },
  "orig_nbformat": 4
 },
 "nbformat": 4,
 "nbformat_minor": 2
}

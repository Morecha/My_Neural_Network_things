{
 "cells": [
  {
   "cell_type": "code",
   "execution_count": 105,
   "metadata": {},
   "outputs": [],
   "source": [
    "import numpy as np\n",
    "import matplotlib.pyplot as plt"
   ]
  },
  {
   "cell_type": "code",
   "execution_count": 106,
   "metadata": {},
   "outputs": [],
   "source": [
    "def aktivasiBipolar(x):\n",
    "    if x < 0:\n",
    "        return -1\n",
    "    else:\n",
    "        return 1\n"
   ]
  },
  {
   "cell_type": "code",
   "execution_count": 107,
   "metadata": {},
   "outputs": [],
   "source": [
    "def aktivasiBiner(x):\n",
    "    if x < 0:\n",
    "        return 0\n",
    "    else:\n",
    "        return 1"
   ]
  },
  {
   "cell_type": "code",
   "execution_count": 108,
   "metadata": {},
   "outputs": [],
   "source": [
    "def train(train_data, train_target, alpha=0.1, max_epoch=10, verbose=True, draw=True, aktivasi_bipolar=True):\n",
    "    w = np.random.rand(2,2)     #membuat matrix 2x2\n",
    "    v = np.array([0.5,0.5])\n",
    "    b = np.random.random(2)     #membuat matrik 1x2\n",
    "    b = np.append(b,0.5)        #menambahkan ke bias\n",
    "    epoch = 0\n",
    "    weight_update = True\n",
    "    # v_aktivasi = np.vectorize(aktivasiBipolar)\n",
    "\n",
    "    if aktivasi_bipolar:\n",
    "        v_aktivasi = np.vectorize(aktivasiBipolar)     #menerapkan fungsi aktivasi agar dapat di proses pada tabel numpy\n",
    "    else:\n",
    "        v_aktivasi = np.vectorize(aktivasiBiner) \n",
    "\n",
    "    while weight_update == True and epoch<max_epoch:\n",
    "        weight_update = False\n",
    "\n",
    "        for data,target in zip(train_data, train_target):\n",
    "            z_in = np.dot(data,w)\n",
    "            z_in = z_in + b[:-1]\n",
    "            z = v_aktivasi(z_in)\n",
    "            y_in = np.dot(z,v) + b[-1]\n",
    "            y = v_aktivasi(y_in)\n",
    "\n",
    "            if y!= target:\n",
    "                weight_update = True\n",
    "\n",
    "                if target == 1:\n",
    "                    index = np.argmin(np.abs(z_in))     #argmin untuk menampilkan index dari nilai terkecil dan untuk abs digunakan agar menjadikan semua isinya absolut (no minus)\n",
    "                    b[index] = b[index] + alpha * (1 - z_in[index])\n",
    "                    w[:, index] = w[:, index] + alpha * (1 - z_in[index])*data\n",
    "\n",
    "                elif target == -1:\n",
    "                    index = np.where(z_in>0)[0]\n",
    "                    if len(index)==1:\n",
    "                        index=index[0]\n",
    "                    b[index] = b[index] + alpha * (-1 - z_in[index])\n",
    "                    w[:, index] = w[:, index] + alpha * (-1 - z_in[index])*data\n",
    "            \n",
    "        epoch = epoch + 1\n",
    "\n",
    "    if verbose:\n",
    "        print('\\nEpoch',epoch)\n",
    "\n",
    "        # if draw:\n",
    "        #     plot(w, train_data, train_target)\n",
    "\n",
    "    return(w,v,b)"
   ]
  },
  {
   "cell_type": "code",
   "execution_count": 109,
   "metadata": {},
   "outputs": [],
   "source": [
    "def test(w,v,b,test_data,aktivasi_bipolar=True):\n",
    "    if aktivasi_bipolar:\n",
    "        v_aktivasi = np.vectorize(aktivasiBipolar)     #menerapkan fungsi aktivasi agar dapat di proses pada tabel numpy\n",
    "    else:\n",
    "        v_aktivasi = np.vectorize(aktivasiBiner)\n",
    "    z_in = np.dot(test_data, w)\n",
    "    z_in = z_in + b[:-1]\n",
    "    z = v_aktivasi(z_in)\n",
    "    y_in = np.dot(z, v) + b[-1]\n",
    "    y = v_aktivasi(y_in)\n",
    "    return y"
   ]
  },
  {
   "cell_type": "code",
   "execution_count": 110,
   "metadata": {},
   "outputs": [],
   "source": [
    "def calc_accuracy(a, b):\n",
    "    s = [1 if a[i] == b[i] else 0 for i in range(len(a))]\n",
    "    return sum(s) / len(a)"
   ]
  },
  {
   "cell_type": "code",
   "execution_count": 111,
   "metadata": {},
   "outputs": [],
   "source": [
    "#make a plot from function above\n",
    "def plot(w, train_data, train_target):\n",
    "    x_min, x_max = -1, 1\n",
    "    y_min, y_max = -1, 1\n",
    "    xx, yy = np.meshgrid(np.arange(x_min, x_max, 0.1), np.arange(y_min, y_max, 0.1))\n",
    "    z_in = np.dot(np.c_[xx.ravel(), yy.ravel()], w)\n",
    "    z_in = z_in + b[:-1]\n",
    "    z = v_aktivasi(z_in)\n",
    "    y_in = np.dot(z, v) + b[-1]\n",
    "    y = v_aktivasi(y_in)\n",
    "    z = z.reshape(xx.shape)\n",
    "    plt.contourf(xx, yy, z)\n",
    "    plt.scatter(train_data[:, 0], train_data[:, 1], c=train_target)\n",
    "    plt.show()\n",
    "    "
   ]
  },
  {
   "cell_type": "markdown",
   "metadata": {},
   "source": [
    "### AND"
   ]
  },
  {
   "cell_type": "code",
   "execution_count": 112,
   "metadata": {},
   "outputs": [
    {
     "name": "stdout",
     "output_type": "stream",
     "text": [
      "\n",
      "Epoch 2\n"
     ]
    },
    {
     "ename": "NameError",
     "evalue": "name 'v_aktivasi' is not defined",
     "output_type": "error",
     "traceback": [
      "\u001b[1;31m---------------------------------------------------------------------------\u001b[0m",
      "\u001b[1;31mNameError\u001b[0m                                 Traceback (most recent call last)",
      "\u001b[1;32m<ipython-input-112-80e8e5eb6fcd>\u001b[0m in \u001b[0;36m<module>\u001b[1;34m\u001b[0m\n\u001b[0;32m      5\u001b[0m \u001b[0maccuracy\u001b[0m \u001b[1;33m=\u001b[0m \u001b[0mcalc_accuracy\u001b[0m\u001b[1;33m(\u001b[0m\u001b[0moutput\u001b[0m\u001b[1;33m,\u001b[0m \u001b[0mtarget\u001b[0m\u001b[1;33m)\u001b[0m\u001b[1;33m\u001b[0m\u001b[1;33m\u001b[0m\u001b[0m\n\u001b[0;32m      6\u001b[0m \u001b[1;31m#use the plot function before to plot the output\u001b[0m\u001b[1;33m\u001b[0m\u001b[1;33m\u001b[0m\u001b[1;33m\u001b[0m\u001b[0m\n\u001b[1;32m----> 7\u001b[1;33m \u001b[0mplot\u001b[0m\u001b[1;33m(\u001b[0m\u001b[0mw\u001b[0m\u001b[1;33m,\u001b[0m \u001b[0mdata\u001b[0m\u001b[1;33m,\u001b[0m \u001b[0moutput\u001b[0m\u001b[1;33m)\u001b[0m\u001b[1;33m\u001b[0m\u001b[1;33m\u001b[0m\u001b[0m\n\u001b[0m\u001b[0;32m      8\u001b[0m \u001b[1;33m\u001b[0m\u001b[0m\n\u001b[0;32m      9\u001b[0m \u001b[1;33m\u001b[0m\u001b[0m\n",
      "\u001b[1;32m<ipython-input-111-2ce565294600>\u001b[0m in \u001b[0;36mplot\u001b[1;34m(w, train_data, train_target)\u001b[0m\n\u001b[0;32m      6\u001b[0m     \u001b[0mz_in\u001b[0m \u001b[1;33m=\u001b[0m \u001b[0mnp\u001b[0m\u001b[1;33m.\u001b[0m\u001b[0mdot\u001b[0m\u001b[1;33m(\u001b[0m\u001b[0mnp\u001b[0m\u001b[1;33m.\u001b[0m\u001b[0mc_\u001b[0m\u001b[1;33m[\u001b[0m\u001b[0mxx\u001b[0m\u001b[1;33m.\u001b[0m\u001b[0mravel\u001b[0m\u001b[1;33m(\u001b[0m\u001b[1;33m)\u001b[0m\u001b[1;33m,\u001b[0m \u001b[0myy\u001b[0m\u001b[1;33m.\u001b[0m\u001b[0mravel\u001b[0m\u001b[1;33m(\u001b[0m\u001b[1;33m)\u001b[0m\u001b[1;33m]\u001b[0m\u001b[1;33m,\u001b[0m \u001b[0mw\u001b[0m\u001b[1;33m)\u001b[0m\u001b[1;33m\u001b[0m\u001b[1;33m\u001b[0m\u001b[0m\n\u001b[0;32m      7\u001b[0m     \u001b[0mz_in\u001b[0m \u001b[1;33m=\u001b[0m \u001b[0mz_in\u001b[0m \u001b[1;33m+\u001b[0m \u001b[0mb\u001b[0m\u001b[1;33m[\u001b[0m\u001b[1;33m:\u001b[0m\u001b[1;33m-\u001b[0m\u001b[1;36m1\u001b[0m\u001b[1;33m]\u001b[0m\u001b[1;33m\u001b[0m\u001b[1;33m\u001b[0m\u001b[0m\n\u001b[1;32m----> 8\u001b[1;33m     \u001b[0mz\u001b[0m \u001b[1;33m=\u001b[0m \u001b[0mv_aktivasi\u001b[0m\u001b[1;33m(\u001b[0m\u001b[0mz_in\u001b[0m\u001b[1;33m)\u001b[0m\u001b[1;33m\u001b[0m\u001b[1;33m\u001b[0m\u001b[0m\n\u001b[0m\u001b[0;32m      9\u001b[0m     \u001b[0my_in\u001b[0m \u001b[1;33m=\u001b[0m \u001b[0mnp\u001b[0m\u001b[1;33m.\u001b[0m\u001b[0mdot\u001b[0m\u001b[1;33m(\u001b[0m\u001b[0mz\u001b[0m\u001b[1;33m,\u001b[0m \u001b[0mv\u001b[0m\u001b[1;33m)\u001b[0m \u001b[1;33m+\u001b[0m \u001b[0mb\u001b[0m\u001b[1;33m[\u001b[0m\u001b[1;33m-\u001b[0m\u001b[1;36m1\u001b[0m\u001b[1;33m]\u001b[0m\u001b[1;33m\u001b[0m\u001b[1;33m\u001b[0m\u001b[0m\n\u001b[0;32m     10\u001b[0m     \u001b[0my\u001b[0m \u001b[1;33m=\u001b[0m \u001b[0mv_aktivasi\u001b[0m\u001b[1;33m(\u001b[0m\u001b[0my_in\u001b[0m\u001b[1;33m)\u001b[0m\u001b[1;33m\u001b[0m\u001b[1;33m\u001b[0m\u001b[0m\n",
      "\u001b[1;31mNameError\u001b[0m: name 'v_aktivasi' is not defined"
     ]
    }
   ],
   "source": [
    "data = np.array([[1,1],[1,-1],[-1,1],[-1,-1]])\n",
    "target = np.array([1,-1,-1,-1]) \n",
    "(w,v,b) = train(data,target,alpha=0.8,max_epoch=10) \n",
    "output = test(w,v,b,data) \n",
    "accuracy = calc_accuracy(output, target)\n",
    "\n",
    "print('Output:', output) \n",
    "print('Target:', target) \n",
    "print('Accuracy:', accuracy)\n"
   ]
  },
  {
   "cell_type": "markdown",
   "metadata": {},
   "source": [
    "### OR"
   ]
  },
  {
   "cell_type": "code",
   "execution_count": null,
   "metadata": {},
   "outputs": [
    {
     "name": "stdout",
     "output_type": "stream",
     "text": [
      "\n",
      "Epoch 1\n",
      "Output: [ 1  1  1 -1]\n",
      "Target: [ 1  1  1 -1]\n",
      "Accuracy: 1.0\n"
     ]
    }
   ],
   "source": [
    "data = np.array([[1,1],[1,-1],[-1,1],[-1,-1]])\n",
    "target = np.array([1,1,1,-1])\n",
    "(w,v,b) = train(data,target,alpha=0.2,max_epoch=10)\n",
    "output = test(w,v,b,data)\n",
    "accuracy = calc_accuracy(output, target)\n",
    "print('Output:', output)\n",
    "print('Target:', target)\n",
    "print('Accuracy:', accuracy)"
   ]
  },
  {
   "cell_type": "markdown",
   "metadata": {},
   "source": [
    "### XOR"
   ]
  },
  {
   "cell_type": "code",
   "execution_count": null,
   "metadata": {},
   "outputs": [
    {
     "name": "stdout",
     "output_type": "stream",
     "text": [
      "\n",
      "Epoch 4\n",
      "Output: [ 1 -1 -1  1]\n",
      "Target: [ 1 -1 -1  1]\n",
      "Accuracy: 1.0\n"
     ]
    }
   ],
   "source": [
    "data = np.array([[1,1],[1,-1],[-1,1],[-1,-1]])\n",
    "target = np.array([1,-1,-1,1])\n",
    "(w,v,b) = train(data,target,alpha=0.2,max_epoch=10)\n",
    "output = test(w,v,b,data)\n",
    "accuracy = calc_accuracy(output, target)\n",
    "# print('Epoch:', epoch)\n",
    "print('Output:', output)\n",
    "print('Target:', target)\n",
    "print('Accuracy:', accuracy)"
   ]
  },
  {
   "cell_type": "markdown",
   "metadata": {},
   "source": [
    "### Biner OR"
   ]
  },
  {
   "cell_type": "code",
   "execution_count": null,
   "metadata": {},
   "outputs": [
    {
     "name": "stdout",
     "output_type": "stream",
     "text": [
      "\n",
      "Epoch 10\n",
      "Output: [1 1 1 1]\n",
      "Target: [1 1 1 0]\n",
      "Accuracy: 0.75\n"
     ]
    }
   ],
   "source": [
    "data = np.array([[1,1],[1,0],[0,1],[0,0]])\n",
    "target = np.array([1,1,1,0])\n",
    "(w,v,b) = train(data,target,alpha=0.2,max_epoch=10,aktivasi_bipolar=False)\n",
    "output = test(w,v,b,data,aktivasi_bipolar=False)\n",
    "accuracy = calc_accuracy(output, target)\n",
    "print('Output:', output)\n",
    "print('Target:', target)\n",
    "print('Accuracy:', accuracy)"
   ]
  },
  {
   "cell_type": "markdown",
   "metadata": {},
   "source": [
    "# Percobaan"
   ]
  },
  {
   "cell_type": "code",
   "execution_count": null,
   "metadata": {},
   "outputs": [
    {
     "name": "stdout",
     "output_type": "stream",
     "text": [
      "test = \n",
      " [(array([1, 1]), 1), (array([ 1, -1]), -1), (array([-1,  1]), -1), (array([-1, -1]), -1)]\n",
      "variable w =\n",
      " [[0.67164523 0.846334  ]\n",
      " [0.2256741  0.99565612]]\n",
      "\n"
     ]
    }
   ],
   "source": [
    "w = np.random.rand(2,2)\n",
    "data = np.array([[1,1],[1,-1],[-1,1],[-1,-1]])\n",
    "target = np.array([1,-1,-1,-1])\n",
    "\n",
    "test = zip(data,target)\n",
    "print(f'test = \\n {list(test)}')\n",
    "print(f'variable w =\\n {w}\\n')\n",
    "for data,target in test:\n",
    "    z_in = np.dot(data,w)\n",
    "    index = np.argmin(np.abs(z_in))\n",
    "    # print(index)\n",
    "    w[:,index] =w[:,index] + 0.1 * (1 - z_in[index])*data\n",
    "    # print(w)\n",
    "    print(w[:,index])\n"
   ]
  }
 ],
 "metadata": {
  "kernelspec": {
   "display_name": "Python 3",
   "language": "python",
   "name": "python3"
  },
  "language_info": {
   "codemirror_mode": {
    "name": "ipython",
    "version": 3
   },
   "file_extension": ".py",
   "mimetype": "text/x-python",
   "name": "python",
   "nbconvert_exporter": "python",
   "pygments_lexer": "ipython3",
   "version": "3.9.1"
  },
  "orig_nbformat": 4
 },
 "nbformat": 4,
 "nbformat_minor": 2
}

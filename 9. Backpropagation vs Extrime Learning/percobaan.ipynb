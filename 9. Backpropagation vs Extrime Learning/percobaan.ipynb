{
 "cells": [
  {
   "cell_type": "code",
   "execution_count": 1,
   "metadata": {},
   "outputs": [],
   "source": [
    "import pandas as pd\n",
    "import numpy as np"
   ]
  },
  {
   "cell_type": "code",
   "execution_count": 7,
   "metadata": {},
   "outputs": [],
   "source": [
    "layer_conf = (4,2,3)\n",
    "nin = [np.empty(i) for i in layer_conf]     # array kosong buat layer input, hidden, dan output\n",
    "n = [np.empty(j + 1) if i < len(layer_conf) - 1 else np.empty(j) for i, j in enumerate(layer_conf)] #array kosong kayak nin, tetapi buat layer 1 dan 2 ditambah 1 neuron (mungkin buat bias??)\n",
    "\n"
   ]
  },
  {
   "cell_type": "code",
   "execution_count": 10,
   "metadata": {},
   "outputs": [
    {
     "name": "stdout",
     "output_type": "stream",
     "text": [
      "0 4\n",
      "1 2\n",
      "2 3\n"
     ]
    }
   ],
   "source": [
    "for i, j in enumerate(layer_conf):\n",
    "    print(i, j)"
   ]
  },
  {
   "cell_type": "code",
   "execution_count": 8,
   "metadata": {},
   "outputs": [
    {
     "name": "stdout",
     "output_type": "stream",
     "text": [
      "[array([8.28721325e-312, 2.99248420e+262, 3.55727265e-321, 6.95272004e-310,\n",
      "       1.17076152e+214]), array([8.28748577e-312, 0.00000000e+000, 8.27578423e-312]), array([8.28748680e-312, 0.00000000e+000, 8.27578358e-312])]\n"
     ]
    }
   ],
   "source": [
    "print(n)"
   ]
  }
 ],
 "metadata": {
  "kernelspec": {
   "display_name": "Python 3",
   "language": "python",
   "name": "python3"
  },
  "language_info": {
   "codemirror_mode": {
    "name": "ipython",
    "version": 3
   },
   "file_extension": ".py",
   "mimetype": "text/x-python",
   "name": "python",
   "nbconvert_exporter": "python",
   "pygments_lexer": "ipython3",
   "version": "3.9.1"
  }
 },
 "nbformat": 4,
 "nbformat_minor": 2
}

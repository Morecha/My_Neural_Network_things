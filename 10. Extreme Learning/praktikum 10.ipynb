{
 "cells": [
  {
   "cell_type": "markdown",
   "metadata": {},
   "source": [
    "## Extreme Learning Machine"
   ]
  },
  {
   "cell_type": "code",
   "execution_count": 5,
   "metadata": {},
   "outputs": [],
   "source": [
    "import time\n",
    "import numpy as np\n",
    "\n",
    "def elm_fit(X, target, h, W=None):\n",
    "    start_time = time.time()\n",
    "    if W is None:\n",
    "        W = np.random.uniform(-.1, .1, (h, len(X[0])))\n",
    "    \n",
    "    Hinit = X @ W.T\n",
    "    H = 1 / (1 + np.exp(-Hinit))\n",
    "    Ht = H.T\n",
    "    Hp = np.linalg.inv(Ht @ H) @ Ht\n",
    "    beta = Hp @ target\n",
    "    y = H @ beta\n",
    "    mape = sum(abs(y - target) / target) * 100 / len(target)\n",
    "    \n",
    "    execution = time.time() - start_time\n",
    "    print(\"Waktu eksekusi: %s detik\" %execution)\n",
    "    \n",
    "    return W, beta, mape"
   ]
  },
  {
   "cell_type": "code",
   "execution_count": 6,
   "metadata": {},
   "outputs": [],
   "source": [
    "def elm_predict(X, W, b, round_output=False):\n",
    "    Hinit = X @ W.T\n",
    "    H = 1 / (1 + np.exp(-Hinit))\n",
    "    y = H @ b\n",
    "\n",
    "    if round_output:\n",
    "        y = [int(round(x)) for x in y]\n",
    "    \n",
    "    return y"
   ]
  },
  {
   "cell_type": "code",
   "execution_count": 7,
   "metadata": {},
   "outputs": [
    {
     "name": "stdout",
     "output_type": "stream",
     "text": [
      "Waktu eksekusi: 0.0 detik\n",
      "MAPE: 13.08493604680845\n",
      "Output: [3, 3, 2, 1, 1, 1, 2, 3, 2, 1, 2, 1, 2, 2, 3, 3, 1, 3, 3, 2, 2, 2, 2, 1, 2, 1, 2, 2, 3, 2, 1, 2, 3, 1, 3, 2, 3, 1, 1, 3, 1, 2, 3, 1, 2]\n",
      "True : [3 2 2 1 1 1 2 3 2 1 3 1 2 2 3 3 1 3 3 2 2 2 3 1 2 1 2 2 3 2 1 2 3 1 3 2 3\n",
      " 1 1 2 1 2 3 1 2]\n",
      "Accuracy: 0.9111111111111111\n"
     ]
    }
   ],
   "source": [
    "from sklearn import datasets\n",
    "from sklearn.model_selection import train_test_split\n",
    "from sklearn.preprocessing import minmax_scale\n",
    "from sklearn.metrics import accuracy_score\n",
    "\n",
    "iris = datasets.load_iris()\n",
    "X = minmax_scale(iris.data)\n",
    "Y = iris.target\n",
    "Y += 1\n",
    "\n",
    "X_train, X_test, y_train, y_test = train_test_split(X, Y, test_size=.3)\n",
    "W, b, mape = elm_fit(X_train, y_train, 3)\n",
    "\n",
    "print('MAPE:', mape)\n",
    "output = elm_predict(X_test, W, b, round_output=True)\n",
    "accuracy = accuracy_score(output, y_test)\n",
    "\n",
    "print('Output:', output)\n",
    "print('True :', y_test)\n",
    "print('Accuracy:', accuracy)"
   ]
  },
  {
   "cell_type": "code",
   "execution_count": 9,
   "metadata": {},
   "outputs": [
    {
     "name": "stdout",
     "output_type": "stream",
     "text": [
      "Waktu eksekusi: 0.0009965896606445312 detik\n",
      "MAPE: 8.58349198433284\n",
      "Accuracy: 1.0\n"
     ]
    }
   ],
   "source": [
    "W, b, mape = elm_fit(X_train, y_train, 5)\n",
    "print('MAPE:', mape)\n",
    "output = elm_predict(X_test, W, b, round_output=True)\n",
    "accuracy = accuracy_score(output, y_test)\n",
    "print('Accuracy:', accuracy)"
   ]
  },
  {
   "cell_type": "code",
   "execution_count": 11,
   "metadata": {},
   "outputs": [
    {
     "name": "stdout",
     "output_type": "stream",
     "text": [
      "Waktu eksekusi: 0.0009992122650146484 detik\n",
      "MAPE: 8.285936077000871\n",
      "Accuracy: 1.0\n"
     ]
    }
   ],
   "source": [
    "W, b, mape = elm_fit(X_train, y_train, 7)\n",
    "print('MAPE:', mape)\n",
    "output = elm_predict(X_test, W, b, round_output=True)\n",
    "accuracy = accuracy_score(output, y_test)\n",
    "print('Accuracy:', accuracy)"
   ]
  },
  {
   "cell_type": "code",
   "execution_count": 12,
   "metadata": {},
   "outputs": [
    {
     "name": "stdout",
     "output_type": "stream",
     "text": [
      "Waktu eksekusi: 0.0 detik\n",
      "MAPE: 7.729482913123249\n",
      "Accuracy: 0.9777777777777777\n"
     ]
    }
   ],
   "source": [
    "W, b, mape = elm_fit(X_train, y_train, 10)\n",
    "print('MAPE:', mape)\n",
    "output = elm_predict(X_test, W, b, round_output=True)\n",
    "accuracy = accuracy_score(output, y_test)\n",
    "print('Accuracy:', accuracy)"
   ]
  },
  {
   "cell_type": "code",
   "execution_count": 13,
   "metadata": {},
   "outputs": [
    {
     "name": "stdout",
     "output_type": "stream",
     "text": [
      "Waktu eksekusi: 0.019013643264770508 detik\n",
      "MAPE: 149.31093882959678\n",
      "Accuracy: 0.0\n"
     ]
    }
   ],
   "source": [
    "W, b, mape = elm_fit(X_train, y_train, 30)\n",
    "print('MAPE:', mape)\n",
    "output = elm_predict(X_test, W, b, round_output=True)\n",
    "accuracy = accuracy_score(output, y_test)\n",
    "print('Accuracy:', accuracy)"
   ]
  },
  {
   "cell_type": "markdown",
   "metadata": {},
   "source": [
    "## Backpropagation"
   ]
  },
  {
   "cell_type": "code",
   "execution_count": 14,
   "metadata": {},
   "outputs": [],
   "source": [
    "def sig(x):\n",
    "    return 1 / (1 + np.exp(-x))\n",
    "\n",
    "def sigd(x):\n",
    "    return sig(x) * (1 - sig(x))\n",
    "\n",
    "def onehot_enc(lbl, min_val=0):\n",
    "    mi = min(lbl)\n",
    "    enc = np.full((len(lbl), max(lbl) - mi + 1), min_val, np.int8)\n",
    "    for i, x in enumerate(lbl):\n",
    "      enc[i, x - mi] = 1\n",
    "    return enc\n",
    "\n",
    "def onehot_dec(enc, mi=0):\n",
    "    return [np.argmax(e) + mi for e in enc]"
   ]
  },
  {
   "cell_type": "code",
   "execution_count": 30,
   "metadata": {},
   "outputs": [],
   "source": [
    "def bp_fit(X, target, layer_conf, max_epoch, max_error=.1, learn_rate=.1, print_per_epoch=100):\n",
    "    start_time = time.time()\n",
    "    np.random.seed(1)\n",
    "    nin = [np.empty(i) for i in layer_conf]\n",
    "    n = [np.empty(j+1) if i < len(layer_conf) - 1 else np.empty(j) for i, j in enumerate(layer_conf)]\n",
    "    w = np.array([np.random.rand(layer_conf[i] + 1, layer_conf[i+1]) for i in range(len(layer_conf) - 1)], dtype=object)\n",
    "    dw = np.array([np.empty((layer_conf[i] + 1, layer_conf[i + 1])) for i in range(len(layer_conf) - 1)], dtype=object)\n",
    "    d = [np.empty(s) for s in layer_conf[1:]]\n",
    "    din = [np.empty(s) for s in layer_conf[1:-1]]\n",
    "    epoch = 0\n",
    "    mse = 1\n",
    "\n",
    "    for i in range(0, len(n)-1):\n",
    "        n[i][-1] = 1\n",
    "\n",
    "    while (max_epoch == -1 or epoch < max_epoch) and mse > max_error:\n",
    "        epoch += 1\n",
    "        mse = 0\n",
    "        for r in range(len(X)):\n",
    "            n[0][:-1] = X[r]\n",
    "\n",
    "            for L in range(1, len(layer_conf)):\n",
    "                nin[L] = np.dot(n[L-1], w[L-1])\n",
    "                n[L][:len(nin[L])] = sig(nin[L])\n",
    "\n",
    "            e = target[r] - n[-1]\n",
    "            mse += sum(e ** 2)\n",
    "            d[-1] = e * sigd(nin[-1])\n",
    "            dw[-1] = learn_rate * d[-1] * n[-2].reshape((-1, 1))\n",
    "\n",
    "            for L in range(len(layer_conf) - 1, 1, -1):\n",
    "                din[L-2] = np.dot(d[L-1], np.transpose(w[L-1][:-1]))\n",
    "                d[L-2] = din[L-2] * np.array(sigd(nin[L-1]))\n",
    "                dw[L-2] = (learn_rate * d[L-2]) * n[L-2].reshape((-1, 1))\n",
    "\n",
    "            w += dw\n",
    "        mse /= len(X)\n",
    "\n",
    "        if print_per_epoch > -1 and epoch % print_per_epoch == 0:\n",
    "            print(f'Epoch {epoch}, MSE: {mse}')\n",
    "\n",
    "    execution = time.time()- start_time\n",
    "    # print(\"Waktu eksekusi: %s detik\" % execution)\n",
    "\n",
    "    return w, epoch, mse"
   ]
  },
  {
   "cell_type": "code",
   "execution_count": 31,
   "metadata": {},
   "outputs": [],
   "source": [
    "def bp_predict(X, w):\n",
    "    n = [np.empty(len(i)) for i in w]\n",
    "    nin = [np.empty(len(i[0])) for i in w]\n",
    "    predict = []\n",
    "    n.append(np.empty(len(w[-1][0])))\n",
    "    for x in X:\n",
    "      n[0][:-1] = x\n",
    "      for L in range(0, len(w)):\n",
    "        nin[L] = np.dot(n[L], w[L])\n",
    "        n[L + 1][:len(nin[L])] = sig(nin[L])\n",
    "      predict.append(n[-1].copy())\n",
    "    return predict"
   ]
  },
  {
   "cell_type": "code",
   "execution_count": 32,
   "metadata": {},
   "outputs": [
    {
     "name": "stdout",
     "output_type": "stream",
     "text": [
      "Epoch 25, MSE: 3.4328209305117845\n",
      "Epoch 50, MSE: 3.4306377758556503\n",
      "Epoch 75, MSE: 3.429932320325312\n",
      "Epoch 100, MSE: 3.4295846961048833\n",
      "Epochs: 100\n",
      "MSE: 3.4295846961048833\n",
      "Output: [1, 1, 0, 0, 0, 0, 0, 1, 0, 0, 1, 0, 0, 0, 1, 1, 0, 1, 1, 0, 0, 1, 1, 0, 0, 0, 0, 0, 1, 1, 0, 0, 1, 0, 1, 1, 1, 0, 0, 1, 0, 1, 1, 0, 0]\n",
      "True : [0, 0, 0, 0, 0, 0, 0, 0, 0, 0, 0, 0, 0, 0, 0, 0, 0, 0, 0, 0, 0, 0, 0, 0, 0, 0, 0, 0, 0, 0, 0, 0, 0, 0, 0, 0, 0, 0, 0, 0, 0, 0, 0, 0, 0]\n",
      "Accuracy: 0.5777777777777777\n"
     ]
    }
   ],
   "source": [
    "w, ep, mse = bp_fit(X_train, y_train, layer_conf=(4, 3, 2),learn_rate=.1, max_epoch=100, max_error=.5, print_per_epoch=25)\n",
    "\n",
    "predict = bp_predict(X_test, w)\n",
    "predict = onehot_dec(predict)\n",
    "y_test = onehot_dec(y_test)\n",
    "accuracy = accuracy_score(predict, y_test)\n",
    "\n",
    "print('Epochs:', ep)\n",
    "print('MSE:', mse)\n",
    "print('Output:', predict)\n",
    "print('True :', y_test)\n",
    "print('Accuracy:', accuracy)"
   ]
  }
 ],
 "metadata": {
  "kernelspec": {
   "display_name": "Python 3",
   "language": "python",
   "name": "python3"
  },
  "language_info": {
   "codemirror_mode": {
    "name": "ipython",
    "version": 3
   },
   "file_extension": ".py",
   "mimetype": "text/x-python",
   "name": "python",
   "nbconvert_exporter": "python",
   "pygments_lexer": "ipython3",
   "version": "3.9.1"
  }
 },
 "nbformat": 4,
 "nbformat_minor": 2
}
